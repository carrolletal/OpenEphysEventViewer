{
 "cells": [
  {
   "cell_type": "code",
   "execution_count": 8,
   "id": "c2667218-6beb-47c1-b7ed-2219fba5a812",
   "metadata": {},
   "outputs": [
    {
     "name": "stdout",
     "output_type": "stream",
     "text": [
      "channel_0    2999353\n",
      "channel_1    1499676\n",
      "channel_2    1500275\n",
      "dtype: int64\n",
      "           timestam  channel_0  channel_1  channel_2\n",
      "0         24.038980          1          0          0\n",
      "1         24.039080          1          1          1\n",
      "2         24.039179          1          0          0\n",
      "3         24.039279          1          1          1\n",
      "4         24.039379          1          0          0\n",
      "...             ...        ...        ...        ...\n",
      "2999947  323.975714          1          0          0\n",
      "2999948  323.975814          1          1          1\n",
      "2999949  323.975914          1          0          0\n",
      "2999950  323.976014          1          1          1\n",
      "2999951  323.976114          1          0          0\n",
      "\n",
      "[2999952 rows x 4 columns]\n"
     ]
    }
   ],
   "source": [
    "import os\n",
    "import numpy as np\n",
    "import pandas as pd\n",
    "import matplotlib.pyplot as plt\n",
    "\n",
    "os.chdir(\"C:/Users/sherman/Documents/Open Ephys/2025-01-30_12-40-48/Record Node 114/experiment1/recording1\")\n",
    "ttl_path =r'events/NI-DAQmx-106.PXIe-6341/TTL'\n",
    "os.chdir(ttl_path)\n",
    "\n",
    "#exploring data structure\n",
    "timestamps = np.load('timestamps.npy')\n",
    "channel_states = np.load(\"states.npy\")\n",
    "\n",
    "# If channel_states is an integer (bit mask), split into individual channels\n",
    "num_channels = int(np.ceil(np.log2(np.max(channel_states) + 1)))  # Max bits needed\n",
    "channel_states_binary = ((channel_states[:, None] >> np.arange(num_channels)) & 1)\n",
    "\n",
    "# Create DataFrame with timestamps and channel states\n",
    "all_events_df = pd.DataFrame(channel_states_binary, columns=[f'channel_{i}' for i in range(num_channels)])\n",
    "print(all_events_df.sum()) #-print(all_events_df.sum()) #-count instances of each ch\n",
    "all_events_df.insert(0, 'timestam', timestamps)\n",
    "    \n",
    "print(all_events_df)\n",
    "\n",
    "all_events_Synch=all_events_df[all_events_df[\"channel_0\"]==0]"
   ]
  },
  {
   "cell_type": "code",
   "execution_count": 9,
   "id": "368e06c3-8e98-4f04-b901-f8ffeea0836d",
   "metadata": {},
   "outputs": [
    {
     "name": "stdout",
     "output_type": "stream",
     "text": [
      "           timestam  channel_0  channel_1  channel_2\n",
      "4611      24.500050          0          0          1\n",
      "9612      25.000051          0          0          1\n",
      "14613     25.500085          0          0          1\n",
      "19613     26.000051          0          0          1\n",
      "24615     26.500085          0          0          1\n",
      "...             ...        ...        ...        ...\n",
      "2975191  321.500503          0          0          1\n",
      "2980192  322.000541          0          0          1\n",
      "2985193  322.500505          0          0          1\n",
      "2990194  323.000543          0          0          1\n",
      "2995195  323.500506          0          0          1\n",
      "\n",
      "[599 rows x 4 columns]\n"
     ]
    }
   ],
   "source": [
    "print(all_events_Synch)"
   ]
  },
  {
   "cell_type": "code",
   "execution_count": 10,
   "id": "95b0ff84-3718-4423-978f-b91651cee1be",
   "metadata": {},
   "outputs": [
    {
     "name": "stdout",
     "output_type": "stream",
     "text": [
      "           timestam  channel_0  channel_1  channel_2\n",
      "4611      24.500050          0          0          1\n",
      "9612      25.000051          0          0          1\n",
      "14613     25.500085          0          0          1\n",
      "19613     26.000051          0          0          1\n",
      "24615     26.500085          0          0          1\n",
      "...             ...        ...        ...        ...\n",
      "2975191  321.500503          0          0          1\n",
      "2980192  322.000541          0          0          1\n",
      "2985193  322.500505          0          0          1\n",
      "2990194  323.000543          0          0          1\n",
      "2995195  323.500506          0          0          1\n",
      "\n",
      "[599 rows x 4 columns]\n"
     ]
    }
   ],
   "source": [
    "#exploring data structure- parse to only include trigger instances\n",
    "print(all_events_df[all_events_df[\"channel_0\"]==0])"
   ]
  },
  {
   "cell_type": "code",
   "execution_count": 18,
   "id": "f3ac5fd4-4784-49d4-9a88-7fabd1182973",
   "metadata": {},
   "outputs": [
    {
     "name": "stdout",
     "output_type": "stream",
     "text": [
      "        timestam  channel_0  channel_1  channel_2\n",
      "3577         NaN        NaN        NaN        NaN\n",
      "8578    0.500034        0.0        0.0        0.0\n",
      "13579   0.499966        0.0        0.0        0.0\n",
      "18580   0.500034        0.0        0.0        0.0\n",
      "23581   0.499966        0.0        0.0        0.0\n",
      "28582   0.500034        0.0        0.0        0.0\n",
      "33583   0.499966        0.0        0.0        0.0\n",
      "38584   0.500034        0.0        0.0        0.0\n",
      "43585   0.499966        0.0        0.0        0.0\n",
      "48586   0.500034        0.0        0.0        0.0\n",
      "53587   0.499966        0.0        0.0        0.0\n",
      "58588   0.500034        0.0        0.0        0.0\n",
      "63589   0.499966        0.0        0.0        0.0\n",
      "68590   0.500034        0.0        0.0        0.0\n",
      "73591   0.499966        0.0        0.0        0.0\n",
      "78592   0.500034        0.0        0.0        0.0\n",
      "83592   0.499966        0.0        0.0        0.0\n",
      "88593   0.500001        0.0        0.0        0.0\n",
      "93594   0.500033        0.0        0.0        0.0\n",
      "98595   0.499932        0.0        0.0        0.0\n",
      "103596  0.500034        0.0        0.0        0.0\n",
      "108597  0.499966        0.0        0.0        0.0\n",
      "113598  0.500034        0.0        0.0        0.0\n",
      "118599  0.499966        0.0        0.0        0.0\n",
      "123600  0.500034        0.0        0.0        0.0\n",
      "128601  0.499966        0.0        0.0        0.0\n",
      "133602  0.500034        0.0        0.0        0.0\n",
      "138603  0.499966        0.0        0.0        0.0\n",
      "143604  0.500034        0.0        0.0        0.0\n",
      "148605  0.499966        0.0        0.0        0.0\n",
      "153606  0.500034        0.0        0.0        0.0\n",
      "158607  0.499965        0.0        0.0        0.0\n",
      "163608  0.500035        0.0        0.0        0.0\n",
      "168609  0.499966        0.0        0.0        0.0\n",
      "173610  0.500034        0.0        0.0        0.0\n",
      "178611  0.499965        0.0        0.0        0.0\n",
      "183612  0.500035        0.0        0.0        0.0\n",
      "188613  0.499966        0.0        0.0        0.0\n",
      "193614  0.500034        0.0        0.0        0.0\n",
      "198615  0.499966        0.0        0.0        0.0\n",
      "203616  0.500034        0.0        0.0        0.0\n"
     ]
    }
   ],
   "source": [
    "#exploring data structure- parse to only include trigger instances\n",
    "print(all_events_df[all_events_df[\"channel_0\"]==0].diff())"
   ]
  },
  {
   "cell_type": "code",
   "execution_count": 19,
   "id": "888cfac9-8c2a-471e-ad76-de842316909d",
   "metadata": {},
   "outputs": [
    {
     "data": {
      "text/plain": [
       "[<matplotlib.lines.Line2D at 0x1be48d6c740>]"
      ]
     },
     "execution_count": 19,
     "metadata": {},
     "output_type": "execute_result"
    },
    {
     "data": {
      "image/png": "[encoded data removed]",
      "text/plain": [
       "<Figure size 1200x600 with 1 Axes>"
      ]
     },
     "metadata": {},
     "output_type": "display_data"
    }
   ],
   "source": [
    "plt.figure(figsize=(12, 6))  # Adjust the figure size as needed\n",
    "plt.plot(timestamps[all_events_df[\"channel_0\"]==0])"
   ]
  },
  {
   "cell_type": "code",
   "execution_count": 38,
   "id": "1551afbd-b49f-473b-b063-b449a2898a14",
   "metadata": {},
   "outputs": [
    {
     "name": "stdout",
     "output_type": "stream",
     "text": [
      "Events files do not exist: events/NI-DAQmx-106.PXIe-6341/TTL/timestamps.npy or events/NI-DAQmx-106.PXIe-6341/TTL/states.npy\n"
     ]
    }
   ],
   "source": [
    "def extract_ttl_events(ttl_path):\n",
    "    timestamps_file_path = os.path.join(ttl_path, \"timestamps.npy\")\n",
    "    channel_states_file_path = os.path.join(ttl_path, \"states.npy\")\n",
    "    \n",
    "    if not os.path.exists(timestamps_file_path) or not os.path.exists(channel_states_file_path):\n",
    "        print(f\"Events files do not exist: {timestamps_file_path} or {channel_states_file_path}\")\n",
    "        return None\n",
    "\n",
    "    timestamps = np.load(timestamps_file_path)\n",
    "    channel_states = np.load(channel_states_file_path)\n",
    "    \n",
    "    \n",
    "    # Extract TTL events where the state changes\n",
    "    events_df = pd.DataFrame({\n",
    "        'timestamp': timestamps,\n",
    "        'state': channel_states\n",
    "    })\n",
    "    \n",
    "    # Only consider state changes (e.g., rising edge for stimulus onset)\n",
    "    ttl_onsets = events_df[events_df['state'] == 1].reset_index(drop=True)\n",
    "    \n",
    "    return ttl_onsets\n",
    "\n",
    "extract_ttl_events(ttl_path)"
   ]
  },
  {
   "cell_type": "code",
   "execution_count": 22,
   "id": "a7ad3696-adf3-41fa-b1ec-dfe7a574ead6",
   "metadata": {},
   "outputs": [],
   "source": [
    "def extract_ttl_events_all_channels(ttl_path):\n",
    "    timestamps_file_path = os.path.join(ttl_path, \"timestamps.npy\")\n",
    "    channel_states_file_path = os.path.join(ttl_path, \"states.npy\")\n",
    "    \n",
    "    if not os.path.exists(timestamps_file_path) or not os.path.exists(channel_states_file_path):\n",
    "        print(f\"Events files do not exist: {timestamps_file_path} or {channel_states_file_path}\")\n",
    "        return None\n",
    "\n",
    "    timestamps = np.load(timestamps_file_path)\n",
    "    channel_states = np.load(channel_states_file_path)\n",
    "    print(set(channel_states)) #the unique values of channels\n",
    "\n",
    "    # If channel_states is an integer (bit mask), split into individual channels\n",
    "    num_channels = int(np.ceil(np.log2(np.max(channel_states) + 1)))  # Max bits needed\n",
    "    channel_states_binary = ((channel_states[:, None] >> np.arange(num_channels)) & 1)\n",
    "\n",
    "    # Create DataFrame with timestamps and channel states\n",
    "    all_events_df = pd.DataFrame(channel_states_binary, columns=[f'channel_{i}' for i in range(num_channels)])\n",
    "    print(all_events_df.sum())\n",
    "    all_events_df.insert(0, 'timestam', timestamps)\n",
    "    \n",
    "    return all_events_df\n",
    "    "
   ]
  },
  {
   "cell_type": "code",
   "execution_count": 36,
   "id": "d93069a3-06ce-45a4-ab19-22f011f0f68a",
   "metadata": {},
   "outputs": [
    {
     "data": {
      "text/plain": [
       "[<matplotlib.lines.Line2D at 0x1129fc980>]"
      ]
     },
     "execution_count": 36,
     "metadata": {},
     "output_type": "execute_result"
    },
    {
     "data": {
      "image/png": "[encoded data removed]",
      "text/plain": [
       "<Figure size 640x480 with 1 Axes>"
      ]
     },
     "metadata": {},
     "output_type": "display_data"
    }
   ],
   "source": [
    "import matplotlib.pyplot as plt\n",
    "timestamps_file_path = os.path.join(\"timestamps.npy\")\n",
    "timestamps = np.load(timestamps_file_path)\n",
    "plt.plot(np.diff(timestamps))#[0:15000])"
   ]
  },
  {
   "cell_type": "code",
   "execution_count": 5,
   "id": "5fe4bf02-6c88-4bdd-acd6-b0c8b532de8a",
   "metadata": {},
   "outputs": [
    {
     "data": {
      "text/plain": [
       "'/Users/brianacarroll/Downloads/forGit/events/NI-DAQmx-106.PXIe-6341/TTL'"
      ]
     },
     "execution_count": 5,
     "metadata": {},
     "output_type": "execute_result"
    }
   ],
   "source": [
    "pwd"
   ]
  },
  {
   "cell_type": "code",
   "execution_count": 6,
   "id": "1f0bbe20-9b51-42fd-803f-367d5d74cee1",
   "metadata": {},
   "outputs": [
    {
     "name": "stdout",
     "output_type": "stream",
     "text": [
      "Events files do not exist: events/NI-DAQmx-106.PXIe-6341/TTL/timestamps.npy or events/NI-DAQmx-106.PXIe-6341/TTL/states.npy\n"
     ]
    }
   ],
   "source": [
    "extract_ttl_events_all_channels(ttl_path)"
   ]
  },
  {
   "cell_type": "code",
   "execution_count": 55,
   "id": "16644f18-b11e-4f82-be59-b6f6f16e01f8",
   "metadata": {},
   "outputs": [
    {
     "ename": "SyntaxError",
     "evalue": "invalid syntax (747596504.py, line 29)",
     "output_type": "error",
     "traceback": [
      "\u001b[1;36m  Cell \u001b[1;32mIn[55], line 29\u001b[1;36m\u001b[0m\n\u001b[1;33m    for i =in range(num_channels):\u001b[0m\n\u001b[1;37m          ^\u001b[0m\n\u001b[1;31mSyntaxError\u001b[0m\u001b[1;31m:\u001b[0m invalid syntax\n"
     ]
    }
   ],
   "source": [
    "import matplotlib.pyplot as plt\n",
    "\n",
    "def extract_and_plot_ttl_events(ttl_path):\n",
    "    timestamps_file_path = os.path.join(ttl_path, \"timestamps.npy\")\n",
    "    channel_states_file_path = os.path.join(ttl_path, \"states.npy\")\n",
    "    \n",
    "    if not os.path.exists(timestamps_file_path) or not os.path.exists(channel_states_file_path):\n",
    "        print(f\"Events files do not exist: {timestamps_file_path} or {channel_states_file_path}\")\n",
    "        return None\n",
    "\n",
    "    timestamps = np.load(timestamps_file_path)\n",
    "    channel_states = np.load(channel_states_file_path)\n",
    "    \n",
    "\n",
    "    # If channel_states is an integer (bit mask), split into individual channels\n",
    "    num_channels = int(np.ceil(np.log2(np.max(channel_states) + 1)))  # Max bits needed\n",
    "    channel_states_binary = ((channel_states[:, None] >> np.arange(num_channels)) & 1)\n",
    "\n",
    "    # Create DataFrame with timestamps and channel states\n",
    "    all_events_df = pd.DataFrame(channel_states_binary, columns=[f'channel_{i}' for i in range(num_channels)])\n",
    "    all_events_df.insert(0, 'timestamp', timestamps)\n",
    "\n",
    "    # Limit to the first 20 timestamps\n",
    "    X=100\n",
    "    limited_events_df = all_events_df.iloc[:X]\n",
    "\n",
    "    # Plot each channel's state over time\n",
    "    plt.figure(figsize=(12, 6))  # Adjust the figure size as needed\n",
    "    for i =in range(num_channels):\n",
    "        plt.plot(\n",
    "            limited_events_df['timestamp'], \n",
    "            limited_events_df[f'channel_{i}'], \n",
    "            label=f'Channel {i}'\n",
    "        )\n",
    "    \n",
    "    # Customize plot\n",
    "    plt.xlabel(\"Time (seconds)\")\n",
    "    plt.ylabel(\"State (0 or 1)\")\n",
    "    plt.title(\"TTL States Over Time (First X Timestamps)\")\n",
    "    plt.legend(loc=\"upper right\")\n",
    "    plt.grid(True)\n",
    "    plt.tight_layout()\n",
    "    plt.show()\n",
    "    \n",
    "    return limited_events_df\n",
    "\n",
    "extract_and_plot_ttl_events(ttl_path)"
   ]
  },
  {
   "cell_type": "code",
   "execution_count": 57,
   "id": "c08304e5-1dd4-4299-a2ea-f14e00eaa0f0",
   "metadata": {},
   "outputs": [
    {
     "name": "stdout",
     "output_type": "stream",
     "text": [
      "[-4 -7  7 ... -7  7 -7]\n"
     ]
    },
    {
     "data": {
      "image/png": "[encoded data removed]",
      "text/plain": [
       "<Figure size 1200x600 with 1 Axes>"
      ]
     },
     "metadata": {},
     "output_type": "display_data"
    }
   ],
   "source": [
    "timestamps_file_path = os.path.join(ttl_path, \"timestamps.npy\")\n",
    "channel_states_file_path = os.path.join(ttl_path, \"states.npy\")\n",
    "\n",
    "timestamps = np.load(timestamps_file_path)\n",
    "channel_states = np.load(channel_states_file_path)\n",
    "\n",
    "plt.figure(figsize=(12, 6))  # Adjust the figure size as needed\n",
    "plt.plot(channel_states)\n",
    "print(channel_states)"
   ]
  }
 ],
 "metadata": {
  "kernelspec": {
   "display_name": "Python 3 (ipykernel)",
   "language": "python",
   "name": "python3"
  },
  "language_info": {
   "codemirror_mode": {
    "name": "ipython",
    "version": 3
   },
   "file_extension": ".py",
   "mimetype": "text/x-python",
   "name": "python",
   "nbconvert_exporter": "python",
   "pygments_lexer": "ipython3",
   "version": "3.12.7"
  }
 },
 "nbformat": 4,
 "nbformat_minor": 5
}
