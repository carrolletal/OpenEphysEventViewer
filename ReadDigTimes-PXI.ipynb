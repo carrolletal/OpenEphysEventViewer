{
 "cells": [
  {
   "cell_type": "code",
   "execution_count": 10,
   "id": "7906cfe0-e5d3-4798-9b4f-c613cbb1e891",
   "metadata": {},
   "outputs": [
    {
     "name": "stdout",
     "output_type": "stream",
     "text": [
      "channel_0    41\n",
      "dtype: int64\n",
      "     timestam  channel_0\n",
      "0    7.500000          1\n",
      "1    8.000000          1\n",
      "2    8.500000          1\n",
      "3    9.000000          1\n",
      "4    9.500000          1\n",
      "5   10.000000          1\n",
      "6   10.500000          1\n",
      "7   11.000000          1\n",
      "8   11.500000          1\n",
      "9   12.000000          1\n",
      "10  12.500000          1\n",
      "11  13.000000          1\n",
      "12  13.500000          1\n",
      "13  14.000000          1\n",
      "14  14.500000          1\n",
      "15  15.000000          1\n",
      "16  15.500000          1\n",
      "17  16.000000          1\n",
      "18  16.499967          1\n",
      "19  16.999968          1\n",
      "20  17.499968          1\n",
      "21  17.999968          1\n",
      "22  18.499968          1\n",
      "23  18.999968          1\n",
      "24  19.499968          1\n",
      "25  19.999968          1\n",
      "26  20.499968          1\n",
      "27  20.999968          1\n",
      "28  21.499968          1\n",
      "29  21.999968          1\n",
      "30  22.499968          1\n",
      "31  22.999968          1\n",
      "32  23.499968          1\n",
      "33  23.999968          1\n",
      "34  24.499968          1\n",
      "35  24.999968          1\n",
      "36  25.499968          1\n",
      "37  25.999968          1\n",
      "38  26.499968          1\n",
      "39  26.999968          1\n",
      "40  27.499968          1\n"
     ]
    }
   ],
   "source": [
    "import os\n",
    "import numpy as np\n",
    "import pandas as pd\n",
    "import matplotlib.pyplot as plt\n",
    "\n",
    "os.chdir(\"C:/Users/sherman/Documents/Open Ephys/2025-01-29_14-53-25/Record Node 114/experiment1/recording1\")\n",
    "ttl_path =r'events/Neuropix-PXI-107.ProbeA/TTL'\n",
    "\n",
    "os.chdir(ttl_path)\n",
    "\n",
    "\n",
    "\n",
    "#exploring data structure\n",
    "timestamps = np.load('timestamps.npy')\n",
    "channel_states = np.load(\"states.npy\")\n",
    "\n",
    "# If channel_states is an integer (bit mask), split into individual channels\n",
    "num_channels = int(np.ceil(np.log2(np.max(channel_states) + 1)))  # Max bits needed\n",
    "channel_states_binary = ((channel_states[:, None] >> np.arange(num_channels)) & 1)\n",
    "\n",
    "# Create DataFrame with timestamps and channel states\n",
    "all_events_df = pd.DataFrame(channel_states_binary, columns=[f'channel_{i}' for i in range(num_channels)])\n",
    "print(all_events_df.sum()) #-count instances of each ch\n",
    "all_events_df.insert(0, 'timestam', timestamps)\n",
    "    \n",
    "print(all_events_df)"
   ]
  },
  {
   "cell_type": "code",
   "execution_count": 11,
   "id": "983bb3e1-f756-46a9-b803-de00ed2fac9a",
   "metadata": {},
   "outputs": [],
   "source": [
    "#print(all_events_df.diff())"
   ]
  },
  {
   "cell_type": "code",
   "execution_count": 4,
   "id": "bc7bea0e-6168-4b75-b496-94b260ccff44",
   "metadata": {},
   "outputs": [
    {
     "data": {
      "text/plain": [
       "[<matplotlib.lines.Line2D at 0x1e3f242f590>]"
      ]
     },
     "execution_count": 4,
     "metadata": {},
     "output_type": "execute_result"
    },
    {
     "data": {
      "image/png": "[encoded data removed]",
      "text/plain": [
       "<Figure size 1200x600 with 1 Axes>"
      ]
     },
     "metadata": {},
     "output_type": "display_data"
    }
   ],
   "source": [
    "plt.figure(figsize=(12, 6))  # Adjust the figure size as needed\n",
    "plt.plot(timestamps)"
   ]
  },
  {
   "cell_type": "code",
   "execution_count": 18,
   "id": "1551afbd-b49f-473b-b063-b449a2898a14",
   "metadata": {},
   "outputs": [],
   "source": [
    "def extract_ttl_events(ttl_path):\n",
    "    timestamps_file_path = os.path.join(ttl_path, \"timestamps.npy\")\n",
    "    channel_states_file_path = os.path.join(ttl_path, \"states.npy\")\n",
    "    \n",
    "    if not os.path.exists(timestamps_file_path) or not os.path.exists(channel_states_file_path):\n",
    "        print(f\"Events files do not exist: {timestamps_file_path} or {channel_states_file_path}\")\n",
    "        return None\n",
    "\n",
    "    timestamps = np.load(timestamps_file_path)\n",
    "    channel_states = np.load(channel_states_file_path)\n",
    "    \n",
    "    \n",
    "    # Extract TTL events where the state changes\n",
    "    events_df = pd.DataFrame({\n",
    "        'timestamp': timestamps,\n",
    "        'state': channel_states\n",
    "    })\n",
    "    \n",
    "    # Only consider state changes (e.g., rising edge for stimulus onset)\n",
    "    ttl_onsets = events_df[events_df['state'] == 1].reset_index(drop=True)\n",
    "    \n",
    "    return ttl_onsets"
   ]
  },
  {
   "cell_type": "code",
   "execution_count": 21,
   "id": "a7ad3696-adf3-41fa-b1ec-dfe7a574ead6",
   "metadata": {},
   "outputs": [],
   "source": [
    "def extract_ttl_events_all_channels(ttl_path):\n",
    "    timestamps_file_path = os.path.join(ttl_path, \"timestamps.npy\")\n",
    "    channel_states_file_path = os.path.join(ttl_path, \"states.npy\")\n",
    "    \n",
    "    timestamps = np.load(timestamps_file_path)\n",
    "    channel_states = np.load(channel_states_file_path)\n",
    "    print(set(channel_states)) #the unique values of channels\n",
    "\n",
    "    # If channel_states is an integer (bit mask), split into individual channels\n",
    "    num_channels = int(np.ceil(np.log2(np.max(channel_states) + 1)))  # Max bits needed\n",
    "    channel_states_binary = ((channel_states[:, None] >> np.arange(num_channels)) & 1)\n",
    "\n",
    "    # Create DataFrame with timestamps and channel states\n",
    "    all_events_df = pd.DataFrame(channel_states_binary, columns=[f'channel_{i}' for i in range(num_channels)])\n",
    "    all_events_df.insert(0, 'timestam', timestamps)\n",
    "\n",
    "    filtercondition=0\n",
    "    if filtercondition:\n",
    "        'hi'\n",
    "        filtered_df = all_events_df[all_events_df[\"channel 1\"] == 1]\n",
    "\n",
    "        print(\"\\nFiltered DataFrame (where channel 1 is 1):\")\n",
    "        print(filtered_df)\n",
    "    else:\n",
    "       \n",
    "        return all_events_df\n",
    "    "
   ]
  },
  {
   "cell_type": "code",
   "execution_count": null,
   "id": "967ed34e-be79-4bec-895f-500451715726",
   "metadata": {},
   "outputs": [],
   "source": []
  },
  {
   "cell_type": "code",
   "execution_count": 25,
   "id": "3516f408-2f59-403a-9c2e-e4ef6b32dcb8",
   "metadata": {},
   "outputs": [
    {
     "ename": "FileNotFoundError",
     "evalue": "[Errno 2] No such file or directory: 'events/Neuropix-PXI-107.ProbeA/TTL/timestamps.npy'",
     "output_type": "error",
     "traceback": [
      "\u001b[0;31m---------------------------------------------------------------------------\u001b[0m",
      "\u001b[0;31mFileNotFoundError\u001b[0m                         Traceback (most recent call last)",
      "Cell \u001b[0;32mIn[25], line 3\u001b[0m\n\u001b[1;32m      1\u001b[0m \u001b[38;5;28;01mimport\u001b[39;00m \u001b[38;5;21;01mmatplotlib\u001b[39;00m\u001b[38;5;21;01m.\u001b[39;00m\u001b[38;5;21;01mpyplot\u001b[39;00m \u001b[38;5;28;01mas\u001b[39;00m \u001b[38;5;21;01mplt\u001b[39;00m\n\u001b[1;32m      2\u001b[0m timestamps_file_path \u001b[38;5;241m=\u001b[39m os\u001b[38;5;241m.\u001b[39mpath\u001b[38;5;241m.\u001b[39mjoin(ttl_path, \u001b[38;5;124m\"\u001b[39m\u001b[38;5;124mtimestamps.npy\u001b[39m\u001b[38;5;124m\"\u001b[39m)\n\u001b[0;32m----> 3\u001b[0m timestamps \u001b[38;5;241m=\u001b[39m np\u001b[38;5;241m.\u001b[39mload(timestamps_file_path)\n\u001b[1;32m      4\u001b[0m plt\u001b[38;5;241m.\u001b[39mplot(timestamps[\u001b[38;5;241m0\u001b[39m:\u001b[38;5;241m15000\u001b[39m])\n",
      "File \u001b[0;32m/opt/anaconda3/lib/python3.12/site-packages/numpy/lib/npyio.py:427\u001b[0m, in \u001b[0;36mload\u001b[0;34m(file, mmap_mode, allow_pickle, fix_imports, encoding, max_header_size)\u001b[0m\n\u001b[1;32m    425\u001b[0m     own_fid \u001b[38;5;241m=\u001b[39m \u001b[38;5;28;01mFalse\u001b[39;00m\n\u001b[1;32m    426\u001b[0m \u001b[38;5;28;01melse\u001b[39;00m:\n\u001b[0;32m--> 427\u001b[0m     fid \u001b[38;5;241m=\u001b[39m stack\u001b[38;5;241m.\u001b[39menter_context(\u001b[38;5;28mopen\u001b[39m(os_fspath(file), \u001b[38;5;124m\"\u001b[39m\u001b[38;5;124mrb\u001b[39m\u001b[38;5;124m\"\u001b[39m))\n\u001b[1;32m    428\u001b[0m     own_fid \u001b[38;5;241m=\u001b[39m \u001b[38;5;28;01mTrue\u001b[39;00m\n\u001b[1;32m    430\u001b[0m \u001b[38;5;66;03m# Code to distinguish from NumPy binary files and pickles.\u001b[39;00m\n",
      "\u001b[0;31mFileNotFoundError\u001b[0m: [Errno 2] No such file or directory: 'events/Neuropix-PXI-107.ProbeA/TTL/timestamps.npy'"
     ]
    }
   ],
   "source": [
    "import matplotlib.pyplot as plt\n",
    "timestamps_file_path = os.path.join(ttl_path, \"timestamps.npy\")\n",
    "timestamps = np.load(timestamps_file_path)\n",
    "plt.plot(timestamps[0:15000])"
   ]
  },
  {
   "cell_type": "code",
   "execution_count": 26,
   "id": "1f0bbe20-9b51-42fd-803f-367d5d74cee1",
   "metadata": {},
   "outputs": [
    {
     "ename": "FileNotFoundError",
     "evalue": "[Errno 2] No such file or directory: 'events/Neuropix-PXI-107.ProbeA/TTL/timestamps.npy'",
     "output_type": "error",
     "traceback": [
      "\u001b[0;31m---------------------------------------------------------------------------\u001b[0m",
      "\u001b[0;31mFileNotFoundError\u001b[0m                         Traceback (most recent call last)",
      "Cell \u001b[0;32mIn[26], line 1\u001b[0m\n\u001b[0;32m----> 1\u001b[0m extract_ttl_events_all_channels(ttl_path)\n",
      "Cell \u001b[0;32mIn[21], line 5\u001b[0m, in \u001b[0;36mextract_ttl_events_all_channels\u001b[0;34m(ttl_path)\u001b[0m\n\u001b[1;32m      2\u001b[0m timestamps_file_path \u001b[38;5;241m=\u001b[39m os\u001b[38;5;241m.\u001b[39mpath\u001b[38;5;241m.\u001b[39mjoin(ttl_path, \u001b[38;5;124m\"\u001b[39m\u001b[38;5;124mtimestamps.npy\u001b[39m\u001b[38;5;124m\"\u001b[39m)\n\u001b[1;32m      3\u001b[0m channel_states_file_path \u001b[38;5;241m=\u001b[39m os\u001b[38;5;241m.\u001b[39mpath\u001b[38;5;241m.\u001b[39mjoin(ttl_path, \u001b[38;5;124m\"\u001b[39m\u001b[38;5;124mstates.npy\u001b[39m\u001b[38;5;124m\"\u001b[39m)\n\u001b[0;32m----> 5\u001b[0m timestamps \u001b[38;5;241m=\u001b[39m np\u001b[38;5;241m.\u001b[39mload(timestamps_file_path)\n\u001b[1;32m      6\u001b[0m channel_states \u001b[38;5;241m=\u001b[39m np\u001b[38;5;241m.\u001b[39mload(channel_states_file_path)\n\u001b[1;32m      7\u001b[0m \u001b[38;5;28mprint\u001b[39m(\u001b[38;5;28mset\u001b[39m(channel_states)) \u001b[38;5;66;03m#the unique values of channels\u001b[39;00m\n",
      "File \u001b[0;32m/opt/anaconda3/lib/python3.12/site-packages/numpy/lib/npyio.py:427\u001b[0m, in \u001b[0;36mload\u001b[0;34m(file, mmap_mode, allow_pickle, fix_imports, encoding, max_header_size)\u001b[0m\n\u001b[1;32m    425\u001b[0m     own_fid \u001b[38;5;241m=\u001b[39m \u001b[38;5;28;01mFalse\u001b[39;00m\n\u001b[1;32m    426\u001b[0m \u001b[38;5;28;01melse\u001b[39;00m:\n\u001b[0;32m--> 427\u001b[0m     fid \u001b[38;5;241m=\u001b[39m stack\u001b[38;5;241m.\u001b[39menter_context(\u001b[38;5;28mopen\u001b[39m(os_fspath(file), \u001b[38;5;124m\"\u001b[39m\u001b[38;5;124mrb\u001b[39m\u001b[38;5;124m\"\u001b[39m))\n\u001b[1;32m    428\u001b[0m     own_fid \u001b[38;5;241m=\u001b[39m \u001b[38;5;28;01mTrue\u001b[39;00m\n\u001b[1;32m    430\u001b[0m \u001b[38;5;66;03m# Code to distinguish from NumPy binary files and pickles.\u001b[39;00m\n",
      "\u001b[0;31mFileNotFoundError\u001b[0m: [Errno 2] No such file or directory: 'events/Neuropix-PXI-107.ProbeA/TTL/timestamps.npy'"
     ]
    }
   ],
   "source": [
    "extract_ttl_events_all_channels(ttl_path)"
   ]
  },
  {
   "cell_type": "code",
   "execution_count": 19,
   "id": "16644f18-b11e-4f82-be59-b6f6f16e01f8",
   "metadata": {},
   "outputs": [
    {
     "data": {
      "image/png": "[encoded data removed]",
      "text/plain": [
       "<Figure size 1200x600 with 1 Axes>"
      ]
     },
     "metadata": {},
     "output_type": "display_data"
    },
    {
     "data": {
      "text/html": [
       "<div>\n",
       "<style scoped>\n",
       "    .dataframe tbody tr th:only-of-type {\n",
       "        vertical-align: middle;\n",
       "    }\n",
       "\n",
       "    .dataframe tbody tr th {\n",
       "        vertical-align: top;\n",
       "    }\n",
       "\n",
       "    .dataframe thead th {\n",
       "        text-align: right;\n",
       "    }\n",
       "</style>\n",
       "<table border=\"1\" class=\"dataframe\">\n",
       "  <thead>\n",
       "    <tr style=\"text-align: right;\">\n",
       "      <th></th>\n",
       "      <th>timestamp</th>\n",
       "      <th>channel_0</th>\n",
       "    </tr>\n",
       "  </thead>\n",
       "  <tbody>\n",
       "    <tr>\n",
       "      <th>0</th>\n",
       "      <td>2.068233</td>\n",
       "      <td>1</td>\n",
       "    </tr>\n",
       "    <tr>\n",
       "      <th>1</th>\n",
       "      <td>2.118233</td>\n",
       "      <td>1</td>\n",
       "    </tr>\n",
       "    <tr>\n",
       "      <th>2</th>\n",
       "      <td>2.168233</td>\n",
       "      <td>1</td>\n",
       "    </tr>\n",
       "    <tr>\n",
       "      <th>3</th>\n",
       "      <td>2.218233</td>\n",
       "      <td>1</td>\n",
       "    </tr>\n",
       "    <tr>\n",
       "      <th>4</th>\n",
       "      <td>2.268233</td>\n",
       "      <td>1</td>\n",
       "    </tr>\n",
       "    <tr>\n",
       "      <th>...</th>\n",
       "      <td>...</td>\n",
       "      <td>...</td>\n",
       "    </tr>\n",
       "    <tr>\n",
       "      <th>95</th>\n",
       "      <td>6.818233</td>\n",
       "      <td>1</td>\n",
       "    </tr>\n",
       "    <tr>\n",
       "      <th>96</th>\n",
       "      <td>6.868233</td>\n",
       "      <td>1</td>\n",
       "    </tr>\n",
       "    <tr>\n",
       "      <th>97</th>\n",
       "      <td>6.918233</td>\n",
       "      <td>1</td>\n",
       "    </tr>\n",
       "    <tr>\n",
       "      <th>98</th>\n",
       "      <td>6.968233</td>\n",
       "      <td>1</td>\n",
       "    </tr>\n",
       "    <tr>\n",
       "      <th>99</th>\n",
       "      <td>7.018233</td>\n",
       "      <td>1</td>\n",
       "    </tr>\n",
       "  </tbody>\n",
       "</table>\n",
       "<p>100 rows × 2 columns</p>\n",
       "</div>"
      ],
      "text/plain": [
       "    timestamp  channel_0\n",
       "0    2.068233          1\n",
       "1    2.118233          1\n",
       "2    2.168233          1\n",
       "3    2.218233          1\n",
       "4    2.268233          1\n",
       "..        ...        ...\n",
       "95   6.818233          1\n",
       "96   6.868233          1\n",
       "97   6.918233          1\n",
       "98   6.968233          1\n",
       "99   7.018233          1\n",
       "\n",
       "[100 rows x 2 columns]"
      ]
     },
     "execution_count": 19,
     "metadata": {},
     "output_type": "execute_result"
    }
   ],
   "source": [
    "def extract_and_plot_ttl_events(ttl_path):\n",
    "    timestamps_file_path = os.path.join(ttl_path, \"timestamps.npy\")\n",
    "    channel_states_file_path = os.path.join(ttl_path, \"states.npy\")\n",
    "    \n",
    "    if not os.path.exists(timestamps_file_path) or not os.path.exists(channel_states_file_path):\n",
    "        print(f\"Events files do not exist: {timestamps_file_path} or {channel_states_file_path}\")\n",
    "        return None\n",
    "\n",
    "    timestamps = np.load(timestamps_file_path)\n",
    "    channel_states = np.load(channel_states_file_path)\n",
    "    \n",
    "\n",
    "    # If channel_states is an integer (bit mask), split into individual channels\n",
    "    num_channels = int(np.ceil(np.log2(np.max(channel_states) + 1)))  # Max bits needed\n",
    "    channel_states_binary = ((channel_states[:, None] >> np.arange(num_channels)) & 1)\n",
    "\n",
    "    # Create DataFrame with timestamps and channel states\n",
    "    all_events_df = pd.DataFrame(channel_states_binary, columns=[f'channel_{i}' for i in range(num_channels)])\n",
    "    all_events_df.insert(0, 'timestamp', timestamps)\n",
    "\n",
    "    # Limit to the first 20 timestamps\n",
    "    X=100\n",
    "    limited_events_df = all_events_df.iloc[:X]\n",
    "\n",
    "    # Plot each channel's state over time\n",
    "    plt.figure(figsize=(12, 6))  # Adjust the figure size as needed\n",
    "    for i in range(num_channels):\n",
    "        plt.plot(\n",
    "            limited_events_df['timestamp'], \n",
    "            limited_events_df[f'channel_{i}'], \n",
    "            label=f'Channel {i}'\n",
    "        )\n",
    "    \n",
    "    # Customize plot\n",
    "    plt.xlabel(\"Time (seconds)\")\n",
    "    plt.ylabel(\"State (0 or 1)\")\n",
    "    plt.title(\"TTL States Over Time (First X Timestamps)\")\n",
    "    plt.legend(loc=\"upper right\")\n",
    "    plt.grid(True)\n",
    "    plt.tight_layout()\n",
    "    plt.show()\n",
    "    \n",
    "    return limited_events_df\n",
    "\n",
    "extract_and_plot_ttl_events(ttl_path)"
   ]
  },
  {
   "cell_type": "code",
   "execution_count": 23,
   "id": "c08304e5-1dd4-4299-a2ea-f14e00eaa0f0",
   "metadata": {},
   "outputs": [
    {
     "name": "stdout",
     "output_type": "stream",
     "text": [
      "[ 1 -1  1 ... -1  1 -1]\n"
     ]
    },
    {
     "data": {
      "image/png": "[encoded data removed]",
      "text/plain": [
       "<Figure size 1200x600 with 1 Axes>"
      ]
     },
     "metadata": {},
     "output_type": "display_data"
    }
   ],
   "source": [
    "timestamps_file_path = os.path.join(ttl_path, \"timestamps.npy\")\n",
    "channel_states_file_path = os.path.join(ttl_path, \"states.npy\")\n",
    "\n",
    "timestamps = np.load(timestamps_file_path)\n",
    "channel_states = np.load(channel_states_file_path)\n",
    "\n",
    "plt.figure(figsize=(12, 6))  # Adjust the figure size as needed\n",
    "plt.plot(channel_states)\n",
    "print(channel_states)"
   ]
  },
  {
   "cell_type": "code",
   "execution_count": 8,
   "id": "8d8a172e-63f8-4b07-9f58-571ea6e21aa7",
   "metadata": {},
   "outputs": [
    {
     "data": {
      "text/plain": [
       "'C:\\\\Users\\\\sherman\\\\Desktop\\\\BC matlab'"
      ]
     },
     "execution_count": 8,
     "metadata": {},
     "output_type": "execute_result"
    }
   ],
   "source": [
    "pwd\n"
   ]
  },
  {
   "cell_type": "code",
   "execution_count": null,
   "id": "9c480d60-cbde-4f73-a829-d260c8093583",
   "metadata": {},
   "outputs": [],
   "source": []
  }
 ],
 "metadata": {
  "kernelspec": {
   "display_name": "Python 3 (ipykernel)",
   "language": "python",
   "name": "python3"
  },
  "language_info": {
   "codemirror_mode": {
    "name": "ipython",
    "version": 3
   },
   "file_extension": ".py",
   "mimetype": "text/x-python",
   "name": "python",
   "nbconvert_exporter": "python",
   "pygments_lexer": "ipython3",
   "version": "3.12.7"
  }
 },
 "nbformat": 4,
 "nbformat_minor": 5
}
