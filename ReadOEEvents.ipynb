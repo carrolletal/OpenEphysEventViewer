{
 "cells": [
  {
   "cell_type": "code",
   "execution_count": null,
   "id": "c2667218-6beb-47c1-b7ed-2219fba5a812",
   "metadata": {},
   "outputs": [],
   "source": [
    "import os\n",
    "import numpy as np\n",
    "import pandas as pd\n",
    "import matplotlib.pyplot as plt\n",
    "\n",
    "ttl_path =r'events/NI-DAQmx-106.PXIe-6341/TTL'\n",
    "\n",
    "#os.chdir(ttl_path)"
   ]
  },
  {
   "cell_type": "raw",
   "id": "b7a0011e-2ec0-4c13-ad80-f254259d1dc7",
   "metadata": {},
   "source": [
    "Create a pandas dataframe of such events from ephys output timestamps.npy and states.npy."
   ]
  },
  {
   "cell_type": "code",
   "execution_count": 33,
   "id": "368e06c3-8e98-4f04-b901-f8ffeea0836d",
   "metadata": {},
   "outputs": [
    {
     "name": "stdout",
     "output_type": "stream",
     "text": [
      "channel_0    6176521\n",
      "channel_1    3088260\n",
      "channel_2    3100614\n",
      "dtype: int64\n",
      "           timestam  channel_0  channel_1  channel_2\n",
      "0         -1.000000          0          0          1\n",
      "1         -1.000000          1          0          0\n",
      "2         -1.000000          1          1          1\n",
      "3         -1.000000          1          0          0\n",
      "4         -1.000000          1          1          1\n",
      "...             ...        ...        ...        ...\n",
      "6188870  610.022349          1          0          0\n",
      "6188871  610.022449          1          1          1\n",
      "6188872  610.022549          1          0          0\n",
      "6188873  610.022649          1          1          1\n",
      "6188874  610.022749          1          0          0\n",
      "\n",
      "[6188875 rows x 4 columns]\n"
     ]
    }
   ],
   "source": [
    "#exploring data structure\n",
    "timestamps = np.load('timestamps.npy')\n",
    "channel_states = np.load(\"states.npy\")\n",
    "\n",
    "# If channel_states is an integer (bit mask), split into individual channels\n",
    "num_channels = int(np.ceil(np.log2(np.max(channel_states) + 1)))  # Max bits needed\n",
    "channel_states_binary = ((channel_states[:, None] >> np.arange(num_channels)) & 1)\n",
    "\n",
    "# Create DataFrame with timestamps and channel states\n",
    "all_events_df = pd.DataFrame(channel_states_binary, columns=[f'channel_{i}' for i in range(num_channels)])\n",
    "print(all_events_df.sum()) #-print(all_events_df.sum()) #-count instances of each ch\n",
    "all_events_df.insert(0, 'timestam', timestamps)\n",
    "    \n",
    "print(all_events_df)"
   ]
  },
  {
   "cell_type": "code",
   "execution_count": null,
   "id": "0ee48142-2a80-45d5-bab6-4b97db726798",
   "metadata": {},
   "outputs": [],
   "source": [
    "The working hypothesis is that channel_0 is the trigger channel, which I explore below."
   ]
  },
  {
   "cell_type": "code",
   "execution_count": 34,
   "id": "95b0ff84-3718-4423-978f-b91651cee1be",
   "metadata": {},
   "outputs": [
    {
     "name": "stdout",
     "output_type": "stream",
     "text": [
      "           timestam  channel_0  channel_1  channel_2\n",
      "1         -1.000000          1          0          0\n",
      "2         -1.000000          1          1          1\n",
      "3         -1.000000          1          0          0\n",
      "4         -1.000000          1          1          1\n",
      "5         -1.000000          1          0          0\n",
      "...             ...        ...        ...        ...\n",
      "6188870  610.022349          1          0          0\n",
      "6188871  610.022449          1          1          1\n",
      "6188872  610.022549          1          0          0\n",
      "6188873  610.022649          1          1          1\n",
      "6188874  610.022749          1          0          0\n",
      "\n",
      "[6176521 rows x 4 columns]\n"
     ]
    }
   ],
   "source": [
    "#exploring data structure- parse to only include trigger instances\n",
    "print(all_events_df[all_events_df[\"channel_0\"]==1])"
   ]
  },
  {
   "cell_type": "code",
   "execution_count": 55,
   "id": "888cfac9-8c2a-471e-ad76-de842316909d",
   "metadata": {},
   "outputs": [
    {
     "data": {
      "text/plain": [
       "[<matplotlib.lines.Line2D at 0x3e3d44740>]"
      ]
     },
     "execution_count": 55,
     "metadata": {},
     "output_type": "execute_result"
    },
    {
     "data": {
      "image/png": "[encoded data removed]",
      "text/plain": [
       "<Figure size 1200x600 with 1 Axes>"
      ]
     },
     "metadata": {},
     "output_type": "display_data"
    }
   ],
   "source": [
    "plt.figure(figsize=(12, 6))  # Adjust the figure size as needed\n",
    "plt.plot(timestamps[all_events_df[\"channel_0\"]==1])"
   ]
  },
  {
   "cell_type": "code",
   "execution_count": 38,
   "id": "1551afbd-b49f-473b-b063-b449a2898a14",
   "metadata": {},
   "outputs": [
    {
     "name": "stdout",
     "output_type": "stream",
     "text": [
      "Events files do not exist: events/NI-DAQmx-106.PXIe-6341/TTL/timestamps.npy or events/NI-DAQmx-106.PXIe-6341/TTL/states.npy\n"
     ]
    }
   ],
   "source": [
    "def extract_ttl_events(ttl_path):\n",
    "    timestamps_file_path = os.path.join(ttl_path, \"timestamps.npy\")\n",
    "    channel_states_file_path = os.path.join(ttl_path, \"states.npy\")\n",
    "    \n",
    "    if not os.path.exists(timestamps_file_path) or not os.path.exists(channel_states_file_path):\n",
    "        print(f\"Events files do not exist: {timestamps_file_path} or {channel_states_file_path}\")\n",
    "        return None\n",
    "\n",
    "    timestamps = np.load(timestamps_file_path)\n",
    "    channel_states = np.load(channel_states_file_path)\n",
    "    \n",
    "    \n",
    "    # Extract TTL events where the state changes\n",
    "    events_df = pd.DataFrame({\n",
    "        'timestamp': timestamps,\n",
    "        'state': channel_states\n",
    "    })\n",
    "    \n",
    "    # Only consider state changes (e.g., rising edge for stimulus onset)\n",
    "    ttl_onsets = events_df[events_df['state'] == 1].reset_index(drop=True)\n",
    "    \n",
    "    return ttl_onsets\n",
    "\n",
    "extract_ttl_events(ttl_path)"
   ]
  },
  {
   "cell_type": "code",
   "execution_count": 22,
   "id": "a7ad3696-adf3-41fa-b1ec-dfe7a574ead6",
   "metadata": {},
   "outputs": [],
   "source": [
    "def extract_ttl_events_all_channels(ttl_path):\n",
    "    timestamps_file_path = os.path.join(ttl_path, \"timestamps.npy\")\n",
    "    channel_states_file_path = os.path.join(ttl_path, \"states.npy\")\n",
    "    \n",
    "    if not os.path.exists(timestamps_file_path) or not os.path.exists(channel_states_file_path):\n",
    "        print(f\"Events files do not exist: {timestamps_file_path} or {channel_states_file_path}\")\n",
    "        return None\n",
    "\n",
    "    timestamps = np.load(timestamps_file_path)\n",
    "    channel_states = np.load(channel_states_file_path)\n",
    "    print(set(channel_states)) #the unique values of channels\n",
    "\n",
    "    # If channel_states is an integer (bit mask), split into individual channels\n",
    "    num_channels = int(np.ceil(np.log2(np.max(channel_states) + 1)))  # Max bits needed\n",
    "    channel_states_binary = ((channel_states[:, None] >> np.arange(num_channels)) & 1)\n",
    "\n",
    "    # Create DataFrame with timestamps and channel states\n",
    "    all_events_df = pd.DataFrame(channel_states_binary, columns=[f'channel_{i}' for i in range(num_channels)])\n",
    "    print(all_events_df.sum())\n",
    "    all_events_df.insert(0, 'timestam', timestamps)\n",
    "    \n",
    "    return all_events_df\n",
    "    "
   ]
  },
  {
   "cell_type": "code",
   "execution_count": 36,
   "id": "d93069a3-06ce-45a4-ab19-22f011f0f68a",
   "metadata": {},
   "outputs": [
    {
     "data": {
      "text/plain": [
       "[<matplotlib.lines.Line2D at 0x1129fc980>]"
      ]
     },
     "execution_count": 36,
     "metadata": {},
     "output_type": "execute_result"
    },
    {
     "data": {
      "image/png": "[encoded data removed]",
      "text/plain": [
       "<Figure size 640x480 with 1 Axes>"
      ]
     },
     "metadata": {},
     "output_type": "display_data"
    }
   ],
   "source": [
    "import matplotlib.pyplot as plt\n",
    "timestamps_file_path = os.path.join(\"timestamps.npy\")\n",
    "timestamps = np.load(timestamps_file_path)\n",
    "plt.plot(np.diff(timestamps))#[0:15000])"
   ]
  },
  {
   "cell_type": "code",
   "execution_count": 5,
   "id": "5fe4bf02-6c88-4bdd-acd6-b0c8b532de8a",
   "metadata": {},
   "outputs": [
    {
     "data": {
      "text/plain": [
       "'/Users/brianacarroll/Downloads/forGit/events/NI-DAQmx-106.PXIe-6341/TTL'"
      ]
     },
     "execution_count": 5,
     "metadata": {},
     "output_type": "execute_result"
    }
   ],
   "source": [
    "pwd"
   ]
  },
  {
   "cell_type": "code",
   "execution_count": 6,
   "id": "1f0bbe20-9b51-42fd-803f-367d5d74cee1",
   "metadata": {},
   "outputs": [
    {
     "name": "stdout",
     "output_type": "stream",
     "text": [
      "Events files do not exist: events/NI-DAQmx-106.PXIe-6341/TTL/timestamps.npy or events/NI-DAQmx-106.PXIe-6341/TTL/states.npy\n"
     ]
    }
   ],
   "source": [
    "extract_ttl_events_all_channels(ttl_path)"
   ]
  },
  {
   "cell_type": "code",
   "execution_count": 55,
   "id": "16644f18-b11e-4f82-be59-b6f6f16e01f8",
   "metadata": {},
   "outputs": [
    {
     "ename": "SyntaxError",
     "evalue": "invalid syntax (747596504.py, line 29)",
     "output_type": "error",
     "traceback": [
      "\u001b[1;36m  Cell \u001b[1;32mIn[55], line 29\u001b[1;36m\u001b[0m\n\u001b[1;33m    for i =in range(num_channels):\u001b[0m\n\u001b[1;37m          ^\u001b[0m\n\u001b[1;31mSyntaxError\u001b[0m\u001b[1;31m:\u001b[0m invalid syntax\n"
     ]
    }
   ],
   "source": [
    "import matplotlib.pyplot as plt\n",
    "\n",
    "def extract_and_plot_ttl_events(ttl_path):\n",
    "    timestamps_file_path = os.path.join(ttl_path, \"timestamps.npy\")\n",
    "    channel_states_file_path = os.path.join(ttl_path, \"states.npy\")\n",
    "    \n",
    "    if not os.path.exists(timestamps_file_path) or not os.path.exists(channel_states_file_path):\n",
    "        print(f\"Events files do not exist: {timestamps_file_path} or {channel_states_file_path}\")\n",
    "        return None\n",
    "\n",
    "    timestamps = np.load(timestamps_file_path)\n",
    "    channel_states = np.load(channel_states_file_path)\n",
    "    \n",
    "\n",
    "    # If channel_states is an integer (bit mask), split into individual channels\n",
    "    num_channels = int(np.ceil(np.log2(np.max(channel_states) + 1)))  # Max bits needed\n",
    "    channel_states_binary = ((channel_states[:, None] >> np.arange(num_channels)) & 1)\n",
    "\n",
    "    # Create DataFrame with timestamps and channel states\n",
    "    all_events_df = pd.DataFrame(channel_states_binary, columns=[f'channel_{i}' for i in range(num_channels)])\n",
    "    all_events_df.insert(0, 'timestamp', timestamps)\n",
    "\n",
    "    # Limit to the first 20 timestamps\n",
    "    X=100\n",
    "    limited_events_df = all_events_df.iloc[:X]\n",
    "\n",
    "    # Plot each channel's state over time\n",
    "    plt.figure(figsize=(12, 6))  # Adjust the figure size as needed\n",
    "    for i =in range(num_channels):\n",
    "        plt.plot(\n",
    "            limited_events_df['timestamp'], \n",
    "            limited_events_df[f'channel_{i}'], \n",
    "            label=f'Channel {i}'\n",
    "        )\n",
    "    \n",
    "    # Customize plot\n",
    "    plt.xlabel(\"Time (seconds)\")\n",
    "    plt.ylabel(\"State (0 or 1)\")\n",
    "    plt.title(\"TTL States Over Time (First X Timestamps)\")\n",
    "    plt.legend(loc=\"upper right\")\n",
    "    plt.grid(True)\n",
    "    plt.tight_layout()\n",
    "    plt.show()\n",
    "    \n",
    "    return limited_events_df\n",
    "\n",
    "extract_and_plot_ttl_events(ttl_path)"
   ]
  },
  {
   "cell_type": "code",
   "execution_count": 57,
   "id": "c08304e5-1dd4-4299-a2ea-f14e00eaa0f0",
   "metadata": {},
   "outputs": [
    {
     "name": "stdout",
     "output_type": "stream",
     "text": [
      "[-4 -7  7 ... -7  7 -7]\n"
     ]
    },
    {
     "data": {
      "image/png": "[encoded data removed]",
      "text/plain": [
       "<Figure size 1200x600 with 1 Axes>"
      ]
     },
     "metadata": {},
     "output_type": "display_data"
    }
   ],
   "source": [
    "timestamps_file_path = os.path.join(ttl_path, \"timestamps.npy\")\n",
    "channel_states_file_path = os.path.join(ttl_path, \"states.npy\")\n",
    "\n",
    "timestamps = np.load(timestamps_file_path)\n",
    "channel_states = np.load(channel_states_file_path)\n",
    "\n",
    "plt.figure(figsize=(12, 6))  # Adjust the figure size as needed\n",
    "plt.plot(channel_states)\n",
    "print(channel_states)"
   ]
  }
 ],
 "metadata": {
  "kernelspec": {
   "display_name": "Python 3 (ipykernel)",
   "language": "python",
   "name": "python3"
  },
  "language_info": {
   "codemirror_mode": {
    "name": "ipython",
    "version": 3
   },
   "file_extension": ".py",
   "mimetype": "text/x-python",
   "name": "python",
   "nbconvert_exporter": "python",
   "pygments_lexer": "ipython3",
   "version": "3.12.7"
  }
 },
 "nbformat": 4,
 "nbformat_minor": 5
}
